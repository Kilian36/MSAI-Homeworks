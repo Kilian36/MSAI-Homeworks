{
 "cells": [
  {
   "cell_type": "code",
   "execution_count": 4,
   "metadata": {},
   "outputs": [],
   "source": [
    "import numpy as np\n",
    "import matplotlib.pyplot as plt\n",
    "import scipy as sp"
   ]
  },
  {
   "cell_type": "markdown",
   "metadata": {},
   "source": [
    "### 1) Function for gradient descent"
   ]
  },
  {
   "cell_type": "code",
   "execution_count": null,
   "metadata": {},
   "outputs": [],
   "source": [
    "def gradient_descent(f, grad_f, x0, kmax, lr=None, tolf = 10e-6, tolx = 10e-6):\n",
    "    '''\n",
    "    Inputs : \n",
    "       - f is a python function\n",
    "       - grad_f is a python function\n",
    "       - x0 is the starting guess\n",
    "       - tolf and tolx are conditions\n",
    "       - kmax is maximum number of iteration, to avoid infinite loops\n",
    "       - lr is the value of alpha, if None the armijo rule is applied\n",
    "    Returns :\n",
    "       x --> stationary point\n",
    "       f_val --> A vector containing the values of f during the iterations\n",
    "       err_val --> A vector containing the values of || grad(f(Xk) || \n",
    "    '''\n",
    "    k = 0\n",
    "\n",
    "    fval = np.zeros((kmax + 1,))\n",
    "    \n",
    "    err_val = np.zeros((kmax +1,))\n",
    "\n",
    "    grads = []\n",
    "\n",
    "    conditions = False  \n",
    "    \n",
    "    first_value = x0\n",
    "    \n",
    "    x_val = []\n",
    "    \n",
    "    \n",
    "   \n",
    "    while not conditions:\n",
    "        #update alpha\n",
    "        if lr == None:\n",
    "            alpha = backtracking(f, grad_f, x0)\n",
    "        else : \n",
    "            alpha = lr\n",
    "        # update x \n",
    "\n",
    "        grad = np.array(grad_f(x0))\n",
    "        print(x0)\n",
    "        x = x0 - np.abs(grad) * alpha\n",
    "        print(x)\n",
    "        x_val.append(x)\n",
    "        grads.append(grad)\n",
    "        fval[k] = f(x)\n",
    "        err_val[k] = np.linalg.norm(x - x0)\n",
    "\n",
    "        # conditions to finish the loop update\n",
    "        conditions = k >= kmax or np.linalg.norm(grad_f(x)) < tolf * np.linalg.norm(grad_f(first_value)) or err_val[k] < tolx * np.linalg.norm(x0)  \n",
    "       \n",
    "        x0 = x\n",
    "\n",
    "        k += 1\n",
    "\n",
    "    fval = fval[:k]\n",
    "    err_val = err_val[:k]\n",
    "\n",
    "    return x, fval, err_val, x_val, grads\n",
    "\n",
    "def backtracking(f, grad_f, x):\n",
    "    \"\"\"\n",
    "    This function is a simple implementation of the backtracking algorithm for\n",
    "    the GD (Gradient Descent) method.\n",
    "    \n",
    "    f: function. The function that we want to optimize.\n",
    "    grad_f: function. The gradient of f(x).\n",
    "    x: ndarray. The actual iterate x_k.\n",
    "    \"\"\"\n",
    "    alpha = 1\n",
    "    c = 0.8\n",
    "    tau = 0.25\n",
    "    \n",
    "    while f(x - alpha * np.array(grad_f(x))) > f(x) - c * alpha * np.linalg.norm(grad_f(x)) ** 2:\n",
    "        alpha = tau * alpha\n",
    "        \n",
    "        if alpha < 1e-3:\n",
    "            break\n",
    "    return alpha\n"
   ]
  },
  {
   "cell_type": "markdown",
   "metadata": {},
   "source": [
    "## 1.1) Testing with different functions"
   ]
  },
  {
   "cell_type": "code",
   "execution_count": 56,
   "metadata": {},
   "outputs": [],
   "source": [
    "def f1(x):\n",
    "    return (x[0] - 3)**2 + (x[1] -1)**2\n",
    "def grad_f1(x):\n",
    "    return 2 * (x[0] - 3), 2 * (x[1] - 1)\n",
    "\n",
    "def f2(x):\n",
    "    return 10 * (x[0] - 1)**2 + (x[1] - 2)**2\n",
    "def grad_f2(x):\n",
    "    return 20 * (x[0] - 1), 2 * (x[1] - 2)\n",
    "\n",
    "def f3(N, x):\n",
    "    v = np.arange(0, 1, 1 / N)\n",
    "    A = np.vander(v)\n",
    "    b = A @ np.ones((A.shape[1], 1))\n",
    "    return np.linalg.norm(A @ x - b, 'fro')**2\n",
    "def grad_f3(x, N):\n",
    "    v = np.arange(0, 1, 1 / N)\n",
    "    A = np.vander(v)\n",
    "    b = A @ np.ones((A.shape[1], 1))\n",
    "    return -2 * (b - A @ x).T @ A\n",
    "\n",
    "def f4(N, x, lmbd):\n",
    "    v = np.arange(0, 1, 1 / N)\n",
    "    A = np.vander(v)\n",
    "    b = A @ np.ones((A.shape[1], 1))\n",
    "    return np.linalg.norm(A @ x - b, 'fro') + lmbd / 2 * np.linalg.norm(x)**2\n",
    "def grad_f4(N, x, lmbd):\n",
    "    '''\n",
    "    Shapes :\n",
    "       A --> N x N \n",
    "       b --> N x 1\n",
    "       x --> N x 1 \n",
    "    '''\n",
    "    v = np.arange(0, 1, 1 / N)\n",
    "    A = np.vander(v)\n",
    "    b = A @ np.ones((A.shape[1], 1))\n",
    "    return -2 * (b - A @ x).T @ A + lmbd * x.T\n",
    "\n",
    "def f5(x):\n",
    "    return x**4 + x**3 - 2 * x**2 - 2 * x\n",
    "def grad_f5(x):\n",
    "    return 4 * x**3 + 3 * x **2 - 4 * x - 2\n"
   ]
  },
  {
   "cell_type": "code",
   "execution_count": 83,
   "metadata": {},
   "outputs": [
    {
     "name": "stdout",
     "output_type": "stream",
     "text": [
      "[-0.3125 -0.0625]\n",
      "[-20.  -4.]\n",
      "[-0.72265625 -0.12695312]\n",
      "[-26.25   -4.125]\n",
      "[-1.26098633 -0.19342041]\n",
      "[-34.453125    -4.25390625]\n",
      "[-1.96754456 -0.2619648 ]\n",
      "[-45.21972656  -4.38684082]\n",
      "[-2.89490223 -0.3326512 ]\n",
      "[-59.35089111  -4.5239296 ]\n",
      "[-4.11205918 -0.40554655]\n",
      "[-77.89804459  -4.6653024 ]\n",
      "Min obtained : [-4.11205918 -0.40554655]\n",
      "Real minimum : [1 2]\n",
      " Final error : [-5.11205918 -2.40554655]\n",
      " lr : Armijo\n"
     ]
    },
    {
     "data": {
      "image/png": "[encoded data removed]",
      "text/plain": [
       "<Figure size 432x288 with 1 Axes>"
      ]
     },
     "metadata": {
      "needs_background": "light"
     },
     "output_type": "display_data"
    },
    {
     "name": "stdout",
     "output_type": "stream",
     "text": [
      "40\n"
     ]
    },
    {
     "data": {
      "image/png": "[encoded data removed]",
      "text/plain": [
       "<Figure size 432x288 with 1 Axes>"
      ]
     },
     "metadata": {
      "needs_background": "light"
     },
     "output_type": "display_data"
    }
   ],
   "source": [
    "# 1) f1\n",
    "lrates = [1 / n**4 for n in range(1,10)]\n",
    "real_min = np.array((1, 2))\n",
    "#for lr in lrates:\n",
    "x , f_val, err_val, x_val, grads = gradient_descent(f2, grad_f2, np.zeros((2,)), kmax = 1, lr=None)\n",
    "print(\n",
    "    'Min obtained : {}\\nReal minimum : {}\\n Final error : {}\\n lr : {}'.format(x, real_min, x - real_min, 'Armijo')\n",
    ")\n",
    "plt.subplot()\n",
    "plt.plot(range(len(err_val)), err_val, 'b')\n",
    "plt.title('Gradient norm')\n",
    "plt.xlabel('Number of iterations')\n",
    "plt.show()\n",
    "\n",
    "plt.subplot()\n",
    "plt.plot(range(len(f_val)), f_val)\n",
    "print(f1((-3, -1)))\n"
   ]
  }
 ],
 "metadata": {
  "kernelspec": {
   "display_name": "Python 3.9.7 ('base')",
   "language": "python",
   "name": "python3"
  },
  "language_info": {
   "codemirror_mode": {
    "name": "ipython",
    "version": 3
   },
   "file_extension": ".py",
   "mimetype": "text/x-python",
   "name": "python",
   "nbconvert_exporter": "python",
   "pygments_lexer": "ipython3",
   "version": "3.9.7"
  },
  "orig_nbformat": 4,
  "vscode": {
   "interpreter": {
    "hash": "047dab9871d20290a7bb518a08f15d50efb26882ff70546ff4b30ef4aaeabb7c"
   }
  }
 },
 "nbformat": 4,
 "nbformat_minor": 2
}
